{
 "cells": [
  {
   "cell_type": "code",
   "execution_count": 1,
   "id": "f32ec8de",
   "metadata": {},
   "outputs": [
    {
     "name": "stdout",
     "output_type": "stream",
     "text": [
      "Enter the size of array5\n",
      "0\n",
      "1\n",
      "2\n",
      "3\n",
      "4\n",
      "[0, 1, 2, 3, 4]\n",
      "The sum of array is 10\n"
     ]
    }
   ],
   "source": [
    "# 1. Write a Python Program to find sum of array?\n",
    "n=int(input(\"Enter the size of array\"))\n",
    "l=[]\n",
    "sum=0\n",
    "for i in range (n):\n",
    "    l.append(int(input()))\n",
    "print(l)\n",
    "for x in l:\n",
    "    sum=sum+x\n",
    "print(\"The sum of array is\",sum)"
   ]
  },
  {
   "cell_type": "code",
   "execution_count": 2,
   "id": "e34157c6",
   "metadata": {},
   "outputs": [
    {
     "name": "stdout",
     "output_type": "stream",
     "text": [
      "Enter the size of array5\n",
      "1\n",
      "8\n",
      "30\n",
      "56\n",
      "0\n",
      "[1, 8, 30, 56, 0]\n",
      "The largest element in array is 56\n"
     ]
    }
   ],
   "source": [
    "# 2. Write a Python Program to find largest element in an array?\n",
    "n=int(input(\"Enter the size of array\"))\n",
    "l=[]\n",
    "sum=0\n",
    "for i in range (n):\n",
    "    l.append(int(input()))\n",
    "print(l)\n",
    "for x in range (len(l)):\n",
    "    for i in range(x+1,len(l),1):\n",
    "        if l[x]>l[i]:\n",
    "            pass\n",
    "        else:\n",
    "            temp=l[x]\n",
    "            l[x]=l[i]\n",
    "            l[i]=temp\n",
    "print(\"The largest element in array is\",l[0])"
   ]
  },
  {
   "cell_type": "code",
   "execution_count": 3,
   "id": "8a443028",
   "metadata": {},
   "outputs": [
    {
     "name": "stdout",
     "output_type": "stream",
     "text": [
      "Enter the size of array5\n",
      "89\n",
      "32\n",
      "654\n",
      "21\n",
      "85\n",
      "[89, 32, 654, 21, 85]\n",
      "The largest element of the array is  654\n"
     ]
    }
   ],
   "source": [
    "# 2. Write a Python Program to find largest element in an array?\n",
    "#Using 'max' buil-in-function\n",
    "n=int(input(\"Enter the size of array\"))\n",
    "l=[]\n",
    "sum=0\n",
    "for i in range (n):\n",
    "    l.append(int(input()))\n",
    "print(l)\n",
    "print(\"The largest element of the array is \",max(l))"
   ]
  },
  {
   "cell_type": "code",
   "execution_count": 4,
   "id": "ef83330d",
   "metadata": {},
   "outputs": [
    {
     "name": "stdout",
     "output_type": "stream",
     "text": [
      "Enter the size of array: 5\n",
      "1\n",
      "2\n",
      "3\n",
      "4\n",
      "5\n",
      "[1, 2, 3, 4, 5]\n",
      "Enter the number by which you wish to rotate an array: 2\n",
      "[3, 4, 5, 1, 2]\n"
     ]
    }
   ],
   "source": [
    "n=int(input(\"Enter the size of array: \"))\n",
    "l=[]\n",
    "for i in range(n):\n",
    "    l.append(int(input()))\n",
    "print(l)\n",
    "d=int(input(\"Enter the number by which you wish to rotate an array: \"))\n",
    "j=1\n",
    "while(j<=d):\n",
    "    temp=l[0]\n",
    "    for i in range (n-1):\n",
    "        l[i]=l[i+1]\n",
    "    l[n-1]=temp\n",
    "    j=j+1\n",
    "print(l)"
   ]
  },
  {
   "cell_type": "code",
   "execution_count": 5,
   "id": "4718381a",
   "metadata": {},
   "outputs": [
    {
     "name": "stdout",
     "output_type": "stream",
     "text": [
      "Enter the size of array8\n",
      "1\n",
      "2\n",
      "3\n",
      "4\n",
      "5\n",
      "6\n",
      "7\n",
      "8\n",
      "[1, 2, 3, 4, 5, 6, 7, 8]\n",
      "Enter the index from where array should be split3\n",
      "[5, 6, 7, 8, 1, 2, 3, 4]\n"
     ]
    }
   ],
   "source": [
    "# 4. Write a Python Program to Split the array and add the first part to the end?\n",
    "n=int(input(\"Enter the size of array\"))\n",
    "l=[]\n",
    "sum=0\n",
    "for i in range (n):\n",
    "    l.append(int(input()))\n",
    "print(l)\n",
    "s=int(input(\"Enter the index from where array should be split\"))\n",
    "new_l=[]\n",
    "i=0\n",
    "while i <(s+1):\n",
    "    new_l.append(l[i])\n",
    "    i=i+1\n",
    "for x in range(s+1):\n",
    "    l.remove(new_l[x])\n",
    "for d in range(s+1):\n",
    "    l.append(new_l[d])\n",
    "print(l)"
   ]
  },
  {
   "cell_type": "code",
   "execution_count": 6,
   "id": "0c2ddd11",
   "metadata": {},
   "outputs": [
    {
     "name": "stdout",
     "output_type": "stream",
     "text": [
      "Enter the size of array5\n",
      "60\n",
      "58\n",
      "23\n",
      "12\n",
      "8\n",
      "[60, 58, 23, 12, 8]\n",
      "The array is monotone decreasing\n"
     ]
    }
   ],
   "source": [
    "#5. Write a Python Program to check if given array is Monotonic?\n",
    "n=int(input(\"Enter the size of array\"))\n",
    "l=[]\n",
    "count=0\n",
    "a=0\n",
    "for i in range (n):\n",
    "    l.append(int(input()))\n",
    "print(l)\n",
    "for x in range (len(l)):\n",
    "    for i in range (x+1,len(l),1):\n",
    "        if l[x]>l[i]:\n",
    "            pass\n",
    "        else:\n",
    "            count=1\n",
    "            break\n",
    "if count==1:\n",
    "    for y in range (len(l)):\n",
    "        for j in range (y+1,len(l),1):\n",
    "            if l[y]<l[j]:\n",
    "                pass\n",
    "            else:\n",
    "                a=1\n",
    "                break   \n",
    "    if a==1:\n",
    "        print(\"The array is not montonic\")\n",
    "    else:\n",
    "        print(\"The array is monotone increasing\")\n",
    "else:\n",
    "    print(\"The array is monotone decreasing\")"
   ]
  },
  {
   "cell_type": "code",
   "execution_count": null,
   "id": "f1ff69b4",
   "metadata": {},
   "outputs": [],
   "source": []
  }
 ],
 "metadata": {
  "kernelspec": {
   "display_name": "Python 3 (ipykernel)",
   "language": "python",
   "name": "python3"
  },
  "language_info": {
   "codemirror_mode": {
    "name": "ipython",
    "version": 3
   },
   "file_extension": ".py",
   "mimetype": "text/x-python",
   "name": "python",
   "nbconvert_exporter": "python",
   "pygments_lexer": "ipython3",
   "version": "3.9.12"
  }
 },
 "nbformat": 4,
 "nbformat_minor": 5
}
