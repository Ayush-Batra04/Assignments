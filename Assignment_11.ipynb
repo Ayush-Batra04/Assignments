{
 "cells": [
  {
   "cell_type": "code",
   "execution_count": 1,
   "id": "d76ef95f",
   "metadata": {},
   "outputs": [
    {
     "name": "stdout",
     "output_type": "stream",
     "text": [
      "Enter the paragraph or sentence: My name is Rahul and I like to play chess\n",
      "Enter the length of the word you have to check for: 4\n",
      "The words which are greater than the given lenght are\n",
      "Rahul\n",
      "chess\n"
     ]
    }
   ],
   "source": [
    "# 1. Write a Python program to find words which are greater than given length k?\n",
    "n=input(\"Enter the paragraph or sentence: \")\n",
    "leg=int(input(\"Enter the length of the word you have to check for: \"))\n",
    "l=n.split()\n",
    "print(\"The words which are greater than the given lenght are\")\n",
    "for i in l:\n",
    "    if len(i)>leg:\n",
    "        print(i)\n",
    "    else:\n",
    "        pass"
   ]
  },
  {
   "cell_type": "code",
   "execution_count": 2,
   "id": "15bad059",
   "metadata": {},
   "outputs": [
    {
     "name": "stdout",
     "output_type": "stream",
     "text": [
      "Enter the string: Rahul Jeswani\n",
      "Enter the index of the character you want to remove: 2\n",
      "Raul Jeswani\n"
     ]
    }
   ],
   "source": [
    "# 2. Write a Python program for removing i-th character from a string?\n",
    "s=input(\"Enter the string: \")\n",
    "n=int(input(\"Enter the index of the character you want to remove: \"))\n",
    "char=\"\"\n",
    "for i in s:\n",
    "    if s.index(i)==n:\n",
    "        pass\n",
    "    else:\n",
    "        char=char+i\n",
    "print(char)"
   ]
  },
  {
   "cell_type": "code",
   "execution_count": 3,
   "id": "55b3f138",
   "metadata": {},
   "outputs": [
    {
     "name": "stdout",
     "output_type": "stream",
     "text": [
      "Enter the string :Python programming is used in various fields\n",
      "The string after spliting\n",
      "['Python', 'programming', 'is', 'used', 'in', 'various', 'fields']\n",
      "String after joining\n",
      "Python programming is used in various fields\n"
     ]
    }
   ],
   "source": [
    "# 3. Write a Python program to split and join a string?\n",
    "s=input(\"Enter the string :\")\n",
    "l=s.split()\n",
    "print(\"The string after spliting\")\n",
    "print(l)\n",
    "sentence=\" \".join(l)\n",
    "print(\"String after joining\")\n",
    "print(sentence)"
   ]
  },
  {
   "cell_type": "code",
   "execution_count": 4,
   "id": "7cc26c0a",
   "metadata": {},
   "outputs": [
    {
     "name": "stdout",
     "output_type": "stream",
     "text": [
      "Enter the string11010100\n",
      "Entered string is a binary string\n"
     ]
    }
   ],
   "source": [
    "# 4. Write a Python to check if a given string is binary string or not?\n",
    "str1=input(\"Enter the string\")\n",
    "count=0\n",
    "for i in str1:\n",
    "    if i!='0' and i!='1':\n",
    "        count=1\n",
    "        break\n",
    "if count==1:\n",
    "    print(\"Entered string is not a binary string\")\n",
    "else:\n",
    "    print(\"Entered string is a binary string\")"
   ]
  },
  {
   "cell_type": "code",
   "execution_count": 5,
   "id": "8e98ad5c",
   "metadata": {},
   "outputs": [
    {
     "name": "stdout",
     "output_type": "stream",
     "text": [
      "Enter the first string: I love to play football\n",
      "Enter the second stringI love to play Chess \n",
      "Uncommon words are\n",
      "football\n",
      "chess\n"
     ]
    }
   ],
   "source": [
    "# 5. Write a Python program to find uncommon words from two Strings?\n",
    "str1=input(\"Enter the first string: \")\n",
    "str2=input(\"Enter the second string\")\n",
    "a=str1.lower()\n",
    "b=str2.lower()\n",
    "l1=a.split()\n",
    "l2=b.split()\n",
    "un_common=[]\n",
    "for i in l1:\n",
    "    if i not in l2:\n",
    "        un_common.append(i)\n",
    "for j in l2:\n",
    "    if j  not in l1:\n",
    "        un_common.append(j)\n",
    "if un_common==[]:\n",
    "    print(\"No uncommon words\")\n",
    "else:\n",
    "    print(\"Uncommon words are\")\n",
    "    for i in un_common:\n",
    "        print(i)"
   ]
  },
  {
   "cell_type": "code",
   "execution_count": 6,
   "id": "8927ed5c",
   "metadata": {},
   "outputs": [
    {
     "name": "stdout",
     "output_type": "stream",
     "text": [
      "Enter the stringmy mummy served me a yummy food\n",
      "Duplicate characters in the string are:  {'e', 'y', 'd', 'o', 'u', 'm'}\n"
     ]
    }
   ],
   "source": [
    "# 6. Write a Python to find all duplicate characters in string?\n",
    "s=input('Enter the string')\n",
    "l=s.split()\n",
    "t=[]\n",
    "for i in l:\n",
    "    for j in i:\n",
    "        if s.count(j)>1:\n",
    "            t.append(j)\n",
    "print(\"Duplicate characters in the string are: \",set(t))    "
   ]
  },
  {
   "cell_type": "code",
   "execution_count": 8,
   "id": "1c09184d",
   "metadata": {},
   "outputs": [
    {
     "name": "stdout",
     "output_type": "stream",
     "text": [
      "Enter the string: RahulJeswani\n",
      "The string does not contain any specialcharacters\n"
     ]
    }
   ],
   "source": [
    "# 7. Write a Python Program to check if a string contains any special character?\n",
    "str1=input(\"Enter the string: \")\n",
    "s='[@_!#$%^&*()<>?/\\|}{~:]'\n",
    "count=0\n",
    "for i in str1:\n",
    "    if i in s:\n",
    "        count+=1\n",
    "        break\n",
    "if count==1:\n",
    "    print(\"The string contains a special character\")\n",
    "else:\n",
    "    print(\"The string does not contain any specialcharacters\")"
   ]
  },
  {
   "cell_type": "code",
   "execution_count": null,
   "id": "ae5842d4",
   "metadata": {},
   "outputs": [],
   "source": []
  }
 ],
 "metadata": {
  "kernelspec": {
   "display_name": "Python 3 (ipykernel)",
   "language": "python",
   "name": "python3"
  },
  "language_info": {
   "codemirror_mode": {
    "name": "ipython",
    "version": 3
   },
   "file_extension": ".py",
   "mimetype": "text/x-python",
   "name": "python",
   "nbconvert_exporter": "python",
   "pygments_lexer": "ipython3",
   "version": "3.9.12"
  }
 },
 "nbformat": 4,
 "nbformat_minor": 5
}
