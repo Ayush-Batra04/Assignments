{
 "cells": [
  {
   "cell_type": "code",
   "execution_count": 1,
   "id": "12dcb1f7",
   "metadata": {},
   "outputs": [
    {
     "name": "stdout",
     "output_type": "stream",
     "text": [
      "Enter the first number12\n",
      "Enter the second number35\n",
      "The LCM of two numbers 12 and 35 is 420\n"
     ]
    }
   ],
   "source": [
    "# 1. Write a Python Program to Find LCM?\n",
    "n1=int(input(\"Enter the first number\"))\n",
    "n2=int(input(\"Enter the second number\"))\n",
    "if n1>n2:\n",
    "    big=n1\n",
    "else:\n",
    "    big=n2\n",
    "while(True):\n",
    "    if((big%n1==0) and (big%n2==0)):\n",
    "        LCM=big\n",
    "        break\n",
    "    big=big+1\n",
    "print(\"The LCM of two numbers {0} and {1} is {2}\".format(n1,n2,LCM))"
   ]
  },
  {
   "cell_type": "code",
   "execution_count": 2,
   "id": "9a36601a",
   "metadata": {},
   "outputs": [
    {
     "name": "stdout",
     "output_type": "stream",
     "text": [
      "Enter the first number10\n",
      "Enter the second number5\n",
      "5\n"
     ]
    }
   ],
   "source": [
    "# 2. Write a Python Program to Find HCF?\n",
    "n1=int(input(\"Enter the first number\"))\n",
    "n2=int(input(\"Enter the second number\"))\n",
    "if n1>n2:\n",
    "    small=n2\n",
    "else:\n",
    "    small=n1\n",
    "for i in range (1,small+1,1):\n",
    "    if ((n1%i==0) and (n2%i==0)):\n",
    "        HCF=i\n",
    "print(HCF)"
   ]
  },
  {
   "cell_type": "code",
   "execution_count": 3,
   "id": "be03f2f7",
   "metadata": {},
   "outputs": [
    {
     "name": "stdout",
     "output_type": "stream",
     "text": [
      "Enter the decimal number10\n",
      "The Binary conversion of given decimal number is  0b1010\n",
      "The Octal conversion of given decimal number is  0o12\n",
      "The Hexadecimal conversion of given decimal numbers is 0xa\n"
     ]
    }
   ],
   "source": [
    "# 3. Write a Python Program to Convert Decimal to Binary, Octal and Hexadecimal?\n",
    "n=int(input(\"Enter the decimal number\"))\n",
    "print(\"The Binary conversion of given decimal number is \",bin(n))\n",
    "print(\"The Octal conversion of given decimal number is \",oct(n))\n",
    "print(\"The Hexadecimal conversion of given decimal numbers is\",hex(n))"
   ]
  },
  {
   "cell_type": "code",
   "execution_count": 4,
   "id": "3f06840b",
   "metadata": {},
   "outputs": [
    {
     "name": "stdout",
     "output_type": "stream",
     "text": [
      "Enter the character 2\n",
      "The ASCII value of entered character is  50\n"
     ]
    }
   ],
   "source": [
    "# 4. Write a Python Program To Find ASCII value of a character?\n",
    "a=input(\"Enter the character \")\n",
    "print(\"The ASCII value of entered character is \",ord(a))"
   ]
  },
  {
   "cell_type": "code",
   "execution_count": 5,
   "id": "0741f57e",
   "metadata": {},
   "outputs": [
    {
     "name": "stdout",
     "output_type": "stream",
     "text": [
      "Enter the first number 8\n",
      "Enter the second number 16\n",
      "1.Addition\n",
      "2.Subtraction\n",
      "3.Multiplication\n",
      "4.Division\n",
      "Enter you choice of mathematical operation you wanted to perform(1/2/3/4) 2\n",
      "Subtraction=  -8\n"
     ]
    }
   ],
   "source": [
    "# 5. Write a Python Program to Make a Simple Calculator with 4 basic mathematical operations?\n",
    "num1=int(input(\"Enter the first number \"))\n",
    "num2=int(input(\"Enter the second number \"))\n",
    "print(\"1.Addition\")\n",
    "print(\"2.Subtraction\")\n",
    "print(\"3.Multiplication\")\n",
    "print(\"4.Division\")\n",
    "choice=0\n",
    "choice=int(input(\"Enter you choice of mathematical operation you wanted to perform(1/2/3/4) \"))\n",
    "if choice==1:\n",
    "    print(\"Addition= \",num1+num2)\n",
    "elif choice==2:\n",
    "    print(\"Subtraction= \",num1-num2)\n",
    "elif choice==3:\n",
    "    print(\"Multiplication= \",num1*num2)\n",
    "elif choice==4:\n",
    "    print(\"Division=\",num1/num2)"
   ]
  },
  {
   "cell_type": "code",
   "execution_count": null,
   "id": "e09d5d63",
   "metadata": {},
   "outputs": [],
   "source": []
  }
 ],
 "metadata": {
  "kernelspec": {
   "display_name": "Python 3 (ipykernel)",
   "language": "python",
   "name": "python3"
  },
  "language_info": {
   "codemirror_mode": {
    "name": "ipython",
    "version": 3
   },
   "file_extension": ".py",
   "mimetype": "text/x-python",
   "name": "python",
   "nbconvert_exporter": "python",
   "pygments_lexer": "ipython3",
   "version": "3.9.12"
  }
 },
 "nbformat": 4,
 "nbformat_minor": 5
}
