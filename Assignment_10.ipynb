{
 "cells": [
  {
   "cell_type": "code",
   "execution_count": 1,
   "id": "72a61437",
   "metadata": {},
   "outputs": [
    {
     "name": "stdout",
     "output_type": "stream",
     "text": [
      "Enter the number elements in the list 6\n",
      "2\n",
      "3\n",
      "4\n",
      "8\n",
      "9\n",
      "10\n",
      "[2, 3, 4, 8, 9, 10]\n",
      "The sum of elements of the list is 36\n"
     ]
    }
   ],
   "source": [
    "# 1. Write a Python program to find sum of elements in list?\n",
    "l=[]\n",
    "sum=0\n",
    "n=int(input(\"Enter the number elements in the list \"))\n",
    "for i in range(n):\n",
    "    l.append(int(input()))\n",
    "print(l)\n",
    "for x in l:\n",
    "    sum=sum+x\n",
    "print(\"The sum of elements of the list is {}\".format(sum))"
   ]
  },
  {
   "cell_type": "code",
   "execution_count": 2,
   "id": "3e26e3ed",
   "metadata": {},
   "outputs": [
    {
     "name": "stdout",
     "output_type": "stream",
     "text": [
      "Enter the number elements in the list 5\n",
      "1\n",
      "2\n",
      "3\n",
      "4\n",
      "5\n",
      "[1, 2, 3, 4, 5]\n",
      "The multiplication of all elements of the list is 120\n"
     ]
    }
   ],
   "source": [
    "# 2. Write a Python program to  Multiply all numbers in the list?\n",
    "l=[]\n",
    "mul=1\n",
    "n=int(input(\"Enter the number elements in the list \"))\n",
    "for i in range(n):\n",
    "    l.append(int(input()))\n",
    "print(l)\n",
    "for x in l:\n",
    "    mul=mul*x\n",
    "print(\"The multiplication of all elements of the list is {}\".format(mul))"
   ]
  },
  {
   "cell_type": "code",
   "execution_count": 3,
   "id": "33c84329",
   "metadata": {},
   "outputs": [
    {
     "name": "stdout",
     "output_type": "stream",
     "text": [
      "Enter the number of elements of the list8\n",
      "23\n",
      "48\n",
      "01\n",
      "29\n",
      "358\n",
      "62\n",
      "48\n",
      "98\n",
      "[23, 48, 1, 29, 358, 62, 48, 98]\n",
      "The smallest number in the list is 1\n"
     ]
    }
   ],
   "source": [
    "#3. Write a Python program to find smallest number in a list?\n",
    "l=[]\n",
    "n=int(input(\"Enter the number of elements of the list\"))\n",
    "for i in range (n):\n",
    "    l.append(int(input()))\n",
    "print(l)\n",
    "print(\"The smallest number in the list is\",min(l))"
   ]
  },
  {
   "cell_type": "code",
   "execution_count": 4,
   "id": "b49447bf",
   "metadata": {},
   "outputs": [
    {
     "name": "stdout",
     "output_type": "stream",
     "text": [
      "Enter the number of elements of the list5\n",
      "52\n",
      "89\n",
      "456\n",
      "988\n",
      "23\n",
      "[52, 89, 456, 988, 23]\n",
      "The largest number in the list is 988\n"
     ]
    }
   ],
   "source": [
    "# 4. Write a Python program to find largest number in a list?\n",
    "l=[]\n",
    "n=int(input(\"Enter the number of elements of the list\"))\n",
    "for i in range (n):\n",
    "    l.append(int(input()))\n",
    "print (l)\n",
    "print(\"The largest number in the list is\",max(l))"
   ]
  },
  {
   "cell_type": "code",
   "execution_count": 7,
   "id": "c339055e",
   "metadata": {},
   "outputs": [
    {
     "name": "stdout",
     "output_type": "stream",
     "text": [
      "Enter the number od elements5\n",
      "98\n",
      "23\n",
      "65\n",
      "24\n",
      "20\n",
      "[98, 23, 65, 24, 20]\n",
      "The second largest number is 65\n"
     ]
    }
   ],
   "source": [
    "# 5. Write a Python program to find second largest number in a list?\n",
    "l=[]\n",
    "n=int(input(\"Enter the number od elements\"))\n",
    "for i in range (n):\n",
    "    l.append(int(input()))\n",
    "print(l)\n",
    "count=1\n",
    "for x in range (len(l)):\n",
    "    for i in range(x+1,len(l),1):\n",
    "        if l[x]>l[i]:\n",
    "            pass\n",
    "        else:\n",
    "            temp=l[x]\n",
    "            l[x]=l[i]\n",
    "            l[i]=temp\n",
    "print(\"The second largest number is\",l[1])"
   ]
  },
  {
   "cell_type": "code",
   "execution_count": 8,
   "id": "b4f336cf",
   "metadata": {},
   "outputs": [
    {
     "name": "stdout",
     "output_type": "stream",
     "text": [
      "Enter the number of elements6\n",
      "98\n",
      "12\n",
      "36\n",
      "48\n",
      "90\n",
      "56\n",
      "[98, 12, 36, 48, 90, 56]\n",
      "Enter the number oflargest elements you want 3\n"
     ]
    },
    {
     "data": {
      "text/plain": [
       "[98, 90, 56]"
      ]
     },
     "execution_count": 8,
     "metadata": {},
     "output_type": "execute_result"
    }
   ],
   "source": [
    "# 6. Write a Python program to find N largest elements from a list?\n",
    "l=[]\n",
    "n=int(input(\"Enter the number of elements\"))\n",
    "for i in range (n):\n",
    "    l.append(int(input()))\n",
    "print(l)\n",
    "count=1\n",
    "for x in range (len(l)):\n",
    "    for i in range(x+1,len(l),1):\n",
    "        if l[x]>l[i]:\n",
    "            pass\n",
    "        else:\n",
    "            temp=l[x]\n",
    "            l[x]=l[i]\n",
    "            l[i]=temp\n",
    "b=int(input(\"Enter the number oflargest elements you want \"))\n",
    "l[0:b]"
   ]
  },
  {
   "cell_type": "code",
   "execution_count": 9,
   "id": "2da7b5a9",
   "metadata": {},
   "outputs": [
    {
     "name": "stdout",
     "output_type": "stream",
     "text": [
      "Enter the number of elements of the list5\n",
      "2\n",
      "7\n",
      "8\n",
      "12\n",
      "6\n",
      "[2, 7, 8, 12, 6]\n",
      "The even number is 2\n",
      "The even number is 8\n",
      "The even number is 12\n",
      "The even number is 6\n"
     ]
    }
   ],
   "source": [
    "# 7. Write a Python program to print even numbers in a list?\n",
    "l=[]\n",
    "n=int(input(\"Enter the number of elements of the list\"))\n",
    "for i in range (n):\n",
    "    l.append(int(input()))\n",
    "print(l)\n",
    "for x in l:\n",
    "    if x%2==0:\n",
    "        print(\"The even number is\",x)"
   ]
  },
  {
   "cell_type": "code",
   "execution_count": 6,
   "id": "0408b132",
   "metadata": {},
   "outputs": [
    {
     "name": "stdout",
     "output_type": "stream",
     "text": [
      "Enter the number of elements of the list5\n",
      "3\n",
      "8\n",
      "7\n",
      "1\n",
      "9\n",
      "[3, 8, 7, 1, 9]\n",
      "The number is odd number 3\n",
      "The number is odd number 7\n",
      "The number is odd number 1\n",
      "The number is odd number 9\n"
     ]
    }
   ],
   "source": [
    "# 8. Write a Python program to print odd numbers in a List?\n",
    "l=[]\n",
    "n=int(input(\"Enter the number of elements of the list\"))\n",
    "for i in range (n):\n",
    "    l.append(int(input()))\n",
    "print(l)\n",
    "for x in l:\n",
    "    if x%2==0:\n",
    "        pass\n",
    "    else:\n",
    "        print(\"The number is odd number\",x)"
   ]
  },
  {
   "cell_type": "code",
   "execution_count": 15,
   "id": "9215db65",
   "metadata": {},
   "outputs": [
    {
     "name": "stdout",
     "output_type": "stream",
     "text": [
      "Original List [5, True, 'String', [3, 5, 6], [], [23.5, 5, 9, 10], 'Class', [], [], 45]\n",
      "List after removal of empty lists [5, True, 'String', [3, 5, 6], [23.5, 5, 9, 10], 'Class', 45]\n"
     ]
    }
   ],
   "source": [
    "# 9. Write a Python program to Remove empty List from List?\n",
    "l=[5,True,'String',[3,5,6],[],[23.5,5,9,10],'Class',[],[],45]\n",
    "print(\"Original List\",l)\n",
    "a=[]\n",
    "for i in l:\n",
    "    if i!=[]:\n",
    "        a.append(i)\n",
    "print(\"List after removal of empty lists\",a)"
   ]
  },
  {
   "cell_type": "code",
   "execution_count": 13,
   "id": "87d5de44",
   "metadata": {},
   "outputs": [
    {
     "name": "stdout",
     "output_type": "stream",
     "text": [
      "Original List [2, 3, 5, 'Ayush', [7, 8, 9], True]\n",
      "Copied list [2, 3, 5, 'Ayush', [7, 8, 9], True]\n"
     ]
    }
   ],
   "source": [
    "# 10. Write a Python program to Cloning or Copying a list?\n",
    "l=[2,3,5,'Ayush',[7,8,9],True]\n",
    "print(\"Original List\",l)\n",
    "new_list=[]\n",
    "for x in l:\n",
    "    new_list.append(x)\n",
    "print(\"Copied list\",new_list)"
   ]
  },
  {
   "cell_type": "code",
   "execution_count": 14,
   "id": "e0877722",
   "metadata": {},
   "outputs": [
    {
     "name": "stdout",
     "output_type": "stream",
     "text": [
      "The number ofelements of the list8\n",
      "Enter the elements of the list 2\n",
      "Enter the elements of the list 2\n",
      "Enter the elements of the list 2\n",
      "Enter the elements of the list 6\n",
      "Enter the elements of the list 9\n",
      "Enter the elements of the list 4\n",
      "Enter the elements of the list 2\n",
      "Enter the elements of the list 6\n",
      "['2', '2', '2', '6', '9', '4', '2', '6']\n",
      "Enter the element you need to count it's occurance 6\n",
      "2\n"
     ]
    }
   ],
   "source": [
    "# 11. Write a Python program to Count occurrences of an element in a list?\n",
    "l=[]\n",
    "n=int(input(\"The number ofelements of the list\"))\n",
    "for i in range(n):\n",
    "    l.append(input(\"Enter the elements of the list \"))\n",
    "print(l)\n",
    "element=input(\"Enter the element you need to count it's occurance \")\n",
    "print(l.count(element))"
   ]
  },
  {
   "cell_type": "code",
   "execution_count": null,
   "id": "0fc53955",
   "metadata": {},
   "outputs": [],
   "source": []
  }
 ],
 "metadata": {
  "kernelspec": {
   "display_name": "Python 3 (ipykernel)",
   "language": "python",
   "name": "python3"
  },
  "language_info": {
   "codemirror_mode": {
    "name": "ipython",
    "version": 3
   },
   "file_extension": ".py",
   "mimetype": "text/x-python",
   "name": "python",
   "nbconvert_exporter": "python",
   "pygments_lexer": "ipython3",
   "version": "3.9.12"
  }
 },
 "nbformat": 4,
 "nbformat_minor": 5
}
