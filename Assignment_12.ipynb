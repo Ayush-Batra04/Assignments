{
 "cells": [
  {
   "cell_type": "code",
   "execution_count": 3,
   "id": "1cdafec4",
   "metadata": {},
   "outputs": [
    {
     "name": "stdout",
     "output_type": "stream",
     "text": [
      "The original dictionary\n",
      "{'k1': [1, 2, 3, 4], 'k2': [2, 3, 4, 5, 6], 'k3': [5, 6, 7], 'k4': [9, 10]}\n",
      "Unique Values are {1, 2, 3, 4, 5, 6, 7, 9, 10}\n"
     ]
    }
   ],
   "source": [
    "# 1. Write a Python program to Extract Unique values dictionary values?\n",
    "d={'k1':[1,2,3,4],'k2':[2,3,4,5,6],'k3':[5,6,7],'k4':[9,10]}\n",
    "print(\"The original dictionary\")\n",
    "print(d)\n",
    "a=[]\n",
    "for i in d.items():\n",
    "    for j in i[1]:\n",
    "        a.append(j)\n",
    "print(\"Unique Values are\",set(a))"
   ]
  },
  {
   "cell_type": "code",
   "execution_count": 4,
   "id": "48320c4d",
   "metadata": {},
   "outputs": [
    {
     "name": "stdout",
     "output_type": "stream",
     "text": [
      "{'k1': 30, 'k2': 40, 'k3': 50, 'k4': 80, 'k5': 120}\n",
      "[30, 40, 50, 80, 120]\n",
      "320\n"
     ]
    }
   ],
   "source": [
    "# 2. Write a Python program to find the sum of all items in a dictionary?\n",
    "d={\"k1\":30,\"k2\":40,\"k3\":50,\"k4\":80,\"k5\":120}\n",
    "print(d)\n",
    "l=list(d.values())\n",
    "print(l)\n",
    "sum=0\n",
    "for i in l:\n",
    "    sum=sum+i\n",
    "print(sum)"
   ]
  },
  {
   "cell_type": "code",
   "execution_count": 5,
   "id": "52f53171",
   "metadata": {},
   "outputs": [
    {
     "name": "stdout",
     "output_type": "stream",
     "text": [
      "Dictionary 1\n",
      "{'k1': 45, 'k2': 65, 'k3': 89, 'k4': 110}\n",
      "Dictionary 2\n",
      "{'k7': 58, 'k8': 23, 'k9': 19, 'k10': 78}\n",
      "The combined dictionary is\n",
      "{'k1': 45, 'k2': 65, 'k3': 89, 'k4': 110, 'k7': 58, 'k8': 23, 'k9': 19, 'k10': 78}\n"
     ]
    }
   ],
   "source": [
    "# 3. Write a Python program to Merging two Dictionaries?\n",
    "d1={'k1':45,'k2':65,'k3':89,'k4':110}\n",
    "d2={'k7':58,'k8':23,'k9':19,'k10':78}\n",
    "print(\"Dictionary 1\")\n",
    "print(d1)\n",
    "print(\"Dictionary 2\")\n",
    "print(d2)\n",
    "d1.update(d2)\n",
    "print(\"The combined dictionary is\")\n",
    "print(d1)"
   ]
  },
  {
   "cell_type": "code",
   "execution_count": 6,
   "id": "f46d4cbd",
   "metadata": {},
   "outputs": [
    {
     "name": "stdout",
     "output_type": "stream",
     "text": [
      "The original Dictionary is {'roll_number': [11, 12, 13, 14], 'name': ['Rahul', 'Sohan', 'Ramesh', 'Kiran']}\n",
      "The flat Dictionary is {11: 'Rahul', 12: 'Sohan', 13: 'Ramesh', 14: 'Kiran'}\n"
     ]
    }
   ],
   "source": [
    "# 4. Write a Python program to convert key-values list to flat dictionary?\n",
    "d={\"roll_number\":[11,12,13,14],\"name\":['Rahul','Sohan','Ramesh','Kiran']}\n",
    "print(\"The original Dictionary is\",d)\n",
    "l=list(d.values())\n",
    "l1=l[0]\n",
    "l2=l[1]\n",
    "d2={}\n",
    "for i in range(0,len(l1)):\n",
    "    d2[l1[i]]=l2[i]\n",
    "print(\"The flat Dictionary is\",d2)"
   ]
  },
  {
   "cell_type": "code",
   "execution_count": 7,
   "id": "c0b6c4cc",
   "metadata": {},
   "outputs": [
    {
     "name": "stdout",
     "output_type": "stream",
     "text": [
      "OrderedDict([('k1', 44), ('k2', 56), ('k3', 90)])\n",
      "OrderedDict([('k4', 50), ('k1', 44), ('k2', 56), ('k3', 90)])\n"
     ]
    }
   ],
   "source": [
    "# 5. Write a Python program to insertion at the beginning in OrderedDict?\n",
    "from collections import OrderedDict\n",
    "d1=OrderedDict()\n",
    "d1['k1']=44\n",
    "d1['k2']=56\n",
    "d1['k3']=90\n",
    "print(d1)\n",
    "d1.update({'k4':50})\n",
    "d1.move_to_end('k4',last=False)\n",
    "print(d1)"
   ]
  },
  {
   "cell_type": "code",
   "execution_count": 1,
   "id": "b5d69920",
   "metadata": {},
   "outputs": [
    {
     "name": "stdout",
     "output_type": "stream",
     "text": [
      "False\n",
      "True\n"
     ]
    }
   ],
   "source": [
    "# 6. Write a Python program to check order of character in string using OrderedDict()?\n",
    "from collections import OrderedDict \n",
    "def checkOrder(string, pattern): \n",
    "    dic = OrderedDict.fromkeys(string) \n",
    "    ptr = 0\n",
    "    for key,value in dic.items(): \n",
    "        if (key == pattern[ptr]): \n",
    "            ptr = ptr + 1\n",
    "        if (ptr == (len(pattern))): \n",
    "            return 'True'\n",
    "    return 'False'\n",
    "\n",
    "string = 'Study tonight'\n",
    "pattern = 'stu'\n",
    "print (checkOrder(string,pattern))\n",
    "\n",
    "string2= 'Welcome'\n",
    "pattern2= 'cm'\n",
    "print (checkOrder(string2,pattern2)) "
   ]
  },
  {
   "cell_type": "code",
   "execution_count": 8,
   "id": "3684a137",
   "metadata": {},
   "outputs": [
    {
     "name": "stdout",
     "output_type": "stream",
     "text": [
      "{'k3': 1, 'k6': 9, 'k1': 23, 'k2': 45, 'k5': 90}\n"
     ]
    }
   ],
   "source": [
    "# 7. Write a Python program to sort Python Dictionaries by Key or Value?\n",
    "d={'k1':23,'k2':45,\"k3\":1,'k5':90,'k6':9}\n",
    "d1={key: value for key, value in sorted(d.items(), key=lambda item: item[1])}\n",
    "print(d1)"
   ]
  },
  {
   "cell_type": "code",
   "execution_count": null,
   "id": "2e708872",
   "metadata": {},
   "outputs": [],
   "source": []
  }
 ],
 "metadata": {
  "kernelspec": {
   "display_name": "Python 3 (ipykernel)",
   "language": "python",
   "name": "python3"
  },
  "language_info": {
   "codemirror_mode": {
    "name": "ipython",
    "version": 3
   },
   "file_extension": ".py",
   "mimetype": "text/x-python",
   "name": "python",
   "nbconvert_exporter": "python",
   "pygments_lexer": "ipython3",
   "version": "3.9.12"
  }
 },
 "nbformat": 4,
 "nbformat_minor": 5
}
