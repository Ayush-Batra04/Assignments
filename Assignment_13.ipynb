{
 "cells": [
  {
   "cell_type": "code",
   "execution_count": 1,
   "id": "3bf18ef4",
   "metadata": {},
   "outputs": [
    {
     "name": "stdout",
     "output_type": "stream",
     "text": [
      "Enter the set of number in comma-separated sequence100,150,180\n",
      "18,22,24\n"
     ]
    }
   ],
   "source": [
    "# 1. Write a program that calculates and prints the value according to the given formula:\n",
    "from math import sqrt\n",
    "num=input(\"Enter the set of number in comma-separated sequence\")\n",
    "num_set=num.split(\",\")\n",
    "C=50\n",
    "H=30\n",
    "t=[]\n",
    "for i in num_set:\n",
    "    a=2*C*int(i)\n",
    "    a=a/H\n",
    "    Q=int(sqrt(a))\n",
    "    t.append(str(Q))\n",
    "print(','.join(t))"
   ]
  },
  {
   "cell_type": "code",
   "execution_count": 2,
   "id": "583ca7b4",
   "metadata": {},
   "outputs": [
    {
     "name": "stdout",
     "output_type": "stream",
     "text": [
      "Enter the number of rows4\n",
      "Enter the number of colummns4\n",
      "The 2-Dimensional Array is\n",
      "[0, 0, 0, 0]\n",
      "[0, 1, 2, 3]\n",
      "[0, 2, 4, 6]\n",
      "[0, 3, 6, 9]\n"
     ]
    }
   ],
   "source": [
    "# 2. Write a program which takes 2 digits, X,Y as input and generates a 2-dimensional array. The element value in the i-th row and j-th column of the array should be i*j.\n",
    "r=int(input( \"Enter the number of rows\"))\n",
    "c=int(input(\"Enter the number of colummns\"))\n",
    "M=[]\n",
    "for i in range(r):\n",
    "    t=[]\n",
    "    for j in range(c):\n",
    "        element=i*j\n",
    "        t.append(element)\n",
    "    M.append(t)\n",
    "print(\"The 2-Dimensional Array is\")\n",
    "for i in M:\n",
    "    print(i)"
   ]
  },
  {
   "cell_type": "code",
   "execution_count": 5,
   "id": "b2c78c1a",
   "metadata": {},
   "outputs": [
    {
     "name": "stdout",
     "output_type": "stream",
     "text": [
      "Enter the words in comma seperated manner: Rahul,sudhanshu,sanket,Aman,zahra,patil,amey\n",
      "aman, amey, patil, rahul, sanket, sudhanshu, zahra\n"
     ]
    }
   ],
   "source": [
    "# 3. Write a program that accepts a comma separated sequence of words as input and prints the words in a comma-separated sequence after sorting them alphabetically.\n",
    "str=input(\"Enter the words in comma seperated manner: \")\n",
    "str1=str.lower()\n",
    "words=str1.split(',')\n",
    "words.sort()\n",
    "print(', '.join(words))"
   ]
  },
  {
   "cell_type": "code",
   "execution_count": 7,
   "id": "f16a4de5",
   "metadata": {},
   "outputs": [
    {
     "name": "stdout",
     "output_type": "stream",
     "text": [
      "Enter the sentence: Todays date is 31 August 2022\n",
      "Letters= 18 and Digits= 6\n"
     ]
    }
   ],
   "source": [
    "# 5. Write a program that accepts a sentence and calculate the number of letters and digits.\n",
    "str=input(\"Enter the sentence: \")\n",
    "set=['0','1','2','3','4','5','6','7','8','9']\n",
    "l=str.split()\n",
    "letters=0\n",
    "digit=0\n",
    "for i in l:\n",
    "    for j in i:\n",
    "        if j in set:\n",
    "            digit=digit+1\n",
    "        else:\n",
    "            letters=letters+1\n",
    "print(\"Letters= {0} and Digits= {1}\".format(letters,digit))"
   ]
  },
  {
   "cell_type": "code",
   "execution_count": 8,
   "id": "5c51adb9",
   "metadata": {},
   "outputs": [
    {
     "name": "stdout",
     "output_type": "stream",
     "text": [
      "Enter the passwordRahul@1234\n",
      "Valid Password\n"
     ]
    }
   ],
   "source": [
    "# 6. A website requires the users to input username and password to register. Write a program to check the validity of password input by users.\n",
    "import re\n",
    "password= input(\"Enter the password\")\n",
    "x = True\n",
    "while x:  \n",
    "    if (len(password)<6 or len(password)>12):\n",
    "        break\n",
    "    elif not re.search(\"[a-z]\",password):\n",
    "        break\n",
    "    elif not re.search(\"[0-9]\",password):\n",
    "        break\n",
    "    elif not re.search(\"[A-Z]\",password):\n",
    "        break\n",
    "    elif not re.search(\"[$#@]\",password):\n",
    "        break\n",
    "    elif re.search(\"\\s\",password):\n",
    "        break\n",
    "    else:\n",
    "        print(\"Valid Password\")\n",
    "        x=False\n",
    "        break\n",
    "if x:\n",
    "    print(\"Invalid Password\")"
   ]
  },
  {
   "cell_type": "code",
   "execution_count": null,
   "id": "4ca92d97",
   "metadata": {},
   "outputs": [],
   "source": []
  }
 ],
 "metadata": {
  "kernelspec": {
   "display_name": "Python 3 (ipykernel)",
   "language": "python",
   "name": "python3"
  },
  "language_info": {
   "codemirror_mode": {
    "name": "ipython",
    "version": 3
   },
   "file_extension": ".py",
   "mimetype": "text/x-python",
   "name": "python",
   "nbconvert_exporter": "python",
   "pygments_lexer": "ipython3",
   "version": "3.9.12"
  }
 },
 "nbformat": 4,
 "nbformat_minor": 5
}
