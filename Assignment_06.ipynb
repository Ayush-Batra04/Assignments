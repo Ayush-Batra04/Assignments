{
 "cells": [
  {
   "cell_type": "code",
   "execution_count": 2,
   "id": "8c66438c",
   "metadata": {},
   "outputs": [
    {
     "name": "stdout",
     "output_type": "stream",
     "text": [
      "Enter the number: 10\n",
      "The fibonacci sequence is\n",
      "0\n",
      "1\n",
      "1\n",
      "2\n",
      "3\n",
      "5\n",
      "8\n",
      "13\n",
      "21\n",
      "34\n"
     ]
    }
   ],
   "source": [
    "# 1. Write a Python Program to Display Fibonacci Sequence Using Recursion?\n",
    "def fibonacci(number):\n",
    "    if number<=1:\n",
    "        return number\n",
    "    else:\n",
    "        return(fibonacci(number-1)+fibonacci(number-2))\n",
    "number=int(input(\"Enter the number: \"))\n",
    "print(\"The fibonacci sequence is\")\n",
    "for i in range (number):\n",
    "    print(fibonacci(i))"
   ]
  },
  {
   "cell_type": "code",
   "execution_count": 3,
   "id": "1045ae47",
   "metadata": {},
   "outputs": [
    {
     "name": "stdout",
     "output_type": "stream",
     "text": [
      "Enter the number10\n",
      "The Factorial of number is 3628800\n"
     ]
    }
   ],
   "source": [
    "# 2. Write a Python Program to Find Factorial of Number Using Recursion?\n",
    "number=int(input(\"Enter the number\"))\n",
    "def factorial(number):\n",
    "    if number==1:\n",
    "        return(number)\n",
    "    else:\n",
    "        return number*factorial(number-1)\n",
    "print(\"The Factorial of number is\",factorial(number))"
   ]
  },
  {
   "cell_type": "code",
   "execution_count": 4,
   "id": "9d761c5f",
   "metadata": {},
   "outputs": [
    {
     "name": "stdout",
     "output_type": "stream",
     "text": [
      "Enter your weight in kilograms89\n",
      "ENter you height in meters6.5\n",
      "The Body Mass Index is 2.11\n"
     ]
    }
   ],
   "source": [
    "# 3. Write a Python Program to calculate your Body Mass Index?\n",
    "weight=float(input(\"Enter your weight in kilograms\"))\n",
    "height=float(input(\"ENter you height in meters\"))\n",
    "BMI=weight/(height*height)\n",
    "print(\"The Body Mass Index is\",round(BMI,2))"
   ]
  },
  {
   "cell_type": "code",
   "execution_count": 5,
   "id": "f02dfb3b",
   "metadata": {},
   "outputs": [
    {
     "name": "stdout",
     "output_type": "stream",
     "text": [
      "Enter the number of natural numbers you need to add there cubes3\n",
      "The sum of cube of 3 natural number is 9 \n"
     ]
    }
   ],
   "source": [
    "# 5. Write a Python Program for cube sum of first n natural numbers?\n",
    "n=int(input(\"Enter the number of natural numbers you need to add there cubes\"))\n",
    "total=0\n",
    "for x in range(0,n):\n",
    "    cube=0\n",
    "    cube=x*x*x\n",
    "    total=total+cube\n",
    "print(\"The sum of cube of {0} natural number is {1} \".format(n,total))"
   ]
  },
  {
   "cell_type": "code",
   "execution_count": null,
   "id": "ebdff911",
   "metadata": {},
   "outputs": [],
   "source": []
  }
 ],
 "metadata": {
  "kernelspec": {
   "display_name": "Python 3 (ipykernel)",
   "language": "python",
   "name": "python3"
  },
  "language_info": {
   "codemirror_mode": {
    "name": "ipython",
    "version": 3
   },
   "file_extension": ".py",
   "mimetype": "text/x-python",
   "name": "python",
   "nbconvert_exporter": "python",
   "pygments_lexer": "ipython3",
   "version": "3.9.12"
  }
 },
 "nbformat": 4,
 "nbformat_minor": 5
}
