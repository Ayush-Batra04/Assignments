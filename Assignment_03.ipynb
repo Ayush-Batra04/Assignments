{
 "cells": [
  {
   "cell_type": "code",
   "execution_count": 1,
   "id": "1e9cd6f8",
   "metadata": {},
   "outputs": [
    {
     "name": "stdout",
     "output_type": "stream",
     "text": [
      "Enter the number -20\n",
      "The number entered is negative\n"
     ]
    }
   ],
   "source": [
    "# 1. Write a Python Program to Check if a Number is Positive, Negative or Zero?\n",
    "n=int(input(\"Enter the number \"))\n",
    "if n<0:\n",
    "    print(\"The number entered is negative\")\n",
    "elif n==0:\n",
    "    print(\"The number entered is zero\")\n",
    "else:\n",
    "    print(\"The number entered is positive\")"
   ]
  },
  {
   "cell_type": "code",
   "execution_count": 2,
   "id": "41af11c6",
   "metadata": {},
   "outputs": [
    {
     "name": "stdout",
     "output_type": "stream",
     "text": [
      "Enter the number 33\n",
      "The number entered is odd\n"
     ]
    }
   ],
   "source": [
    "#2. Write a Python Program to Check if a Number is Odd or Even?\n",
    "n=int(input(\"Enter the number \"))\n",
    "div=n%2\n",
    "if div==0:\n",
    "    print(\"The number entered is even\")\n",
    "else:\n",
    "    print(\"The number entered is odd\")"
   ]
  },
  {
   "cell_type": "code",
   "execution_count": 3,
   "id": "5c71f7b0",
   "metadata": {},
   "outputs": [
    {
     "name": "stdout",
     "output_type": "stream",
     "text": [
      "Enter the year2001\n",
      "The year entered is not a leap year\n"
     ]
    }
   ],
   "source": [
    "# 3. Write a Python Program to Check Leap Year?\n",
    "year=int(input(\"Enter the year\"))\n",
    "div=year%4\n",
    "if div==0:\n",
    "    print(\"The year entered is leap year\")\n",
    "else:\n",
    "    print(\"The year entered is not a leap year\")"
   ]
  },
  {
   "cell_type": "code",
   "execution_count": 4,
   "id": "a763b84d",
   "metadata": {},
   "outputs": [
    {
     "name": "stdout",
     "output_type": "stream",
     "text": [
      "Enter the number50\n",
      "Enterd number is not a prime number\n"
     ]
    }
   ],
   "source": [
    "# 4. Write a Python Program to Check Prime Number?\n",
    "n=int(input(\"Enter the number\"))\n",
    "fact=0\n",
    "if n==1:\n",
    "    print(\"1 is neither prime nor composite\")\n",
    "if n>1:\n",
    "    for x in range (1,n+1,1):\n",
    "        div=n%x\n",
    "        if div==0:\n",
    "            fact=fact+1\n",
    "        else:\n",
    "            pass\n",
    "if fact==2:\n",
    "    print(\"As number of factors of given number is 2 that are 1 and number itself therefore entered number is prime number\")\n",
    "else:\n",
    "    print(\"Enterd number is not a prime number\")"
   ]
  },
  {
   "cell_type": "code",
   "execution_count": null,
   "id": "fe9324b6",
   "metadata": {},
   "outputs": [],
   "source": [
    "# 5. Write a Python Program to Print all Prime Numbers in an Interval of 1-10000?\n",
    "count=0\n",
    "for n in range (1,10000+1,1):\n",
    "    fact=0\n",
    "    if n>1:\n",
    "        for x in range (1,n+1,1):\n",
    "            div=n%x\n",
    "            if div==0:\n",
    "                fact=fact+1\n",
    "            else:\n",
    "                pass\n",
    "    if fact==2:\n",
    "        print(n)\n",
    "        count=count+1\n",
    "print(\"There are total {0} prime number between 1 to 10000\".format(count))"
   ]
  }
 ],
 "metadata": {
  "kernelspec": {
   "display_name": "Python 3 (ipykernel)",
   "language": "python",
   "name": "python3"
  },
  "language_info": {
   "codemirror_mode": {
    "name": "ipython",
    "version": 3
   },
   "file_extension": ".py",
   "mimetype": "text/x-python",
   "name": "python",
   "nbconvert_exporter": "python",
   "pygments_lexer": "ipython3",
   "version": "3.9.12"
  }
 },
 "nbformat": 4,
 "nbformat_minor": 5
}
