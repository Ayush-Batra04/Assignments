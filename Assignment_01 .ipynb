{
 "cells": [
  {
   "cell_type": "code",
   "execution_count": 1,
   "id": "7bd54360",
   "metadata": {},
   "outputs": [
    {
     "name": "stdout",
     "output_type": "stream",
     "text": [
      "Hello Python\n"
     ]
    }
   ],
   "source": [
    "#  1. Write a Python program to print \"Hello Python\"?\n",
    "print(\"Hello Python\")"
   ]
  },
  {
   "cell_type": "code",
   "execution_count": 2,
   "id": "71c81132",
   "metadata": {},
   "outputs": [
    {
     "name": "stdout",
     "output_type": "stream",
     "text": [
      "Enter the first number8\n",
      "Enter the second number4\n",
      "The addition and division of respective numbers are 12,2.0\n"
     ]
    }
   ],
   "source": [
    "# 2. Write a Python program to do arithmetical operations addition and division.?\n",
    "a=int(input(\"Enter the first number\"))\n",
    "b=int(input(\"Enter the second number\"))\n",
    "Sum=a+b\n",
    "Div=a/b\n",
    "print(\"The addition and division of respective numbers are {0},{1}\".format(Sum,Div))"
   ]
  },
  {
   "cell_type": "code",
   "execution_count": 3,
   "id": "0e9ff473",
   "metadata": {},
   "outputs": [
    {
     "name": "stdout",
     "output_type": "stream",
     "text": [
      "Enterr the heightof triangle6\n",
      "Enter the base length of triangle3\n",
      "The area of given triangle is 9.0\n"
     ]
    }
   ],
   "source": [
    "# 3. Write a Python program to find the area of a triangle?\n",
    "h=int(input(\"Enterr the heightof triangle\"))\n",
    "b=int(input(\"Enter the base length of triangle\"))\n",
    "Area=1/2*(b*h)\n",
    "print(\"The area of given triangle is {0}\".format(Area))"
   ]
  },
  {
   "cell_type": "code",
   "execution_count": 4,
   "id": "b7c9dca6",
   "metadata": {},
   "outputs": [
    {
     "name": "stdout",
     "output_type": "stream",
     "text": [
      "Enter the first number 'a'8\n",
      "Enterr the second number 'b'9\n",
      "Befor swapping a=8 and b=9\n",
      "After swapping a=9 and b=8\n"
     ]
    }
   ],
   "source": [
    "# 4. Write a Python program to swap two variables?\n",
    "a=int(input(\"Enter the first number 'a'\"))\n",
    "b=int(input(\"Enterr the second number 'b'\"))\n",
    "print(\"Befor swapping a={0} and b={1}\".format(a,b))\n",
    "temp=a\n",
    "a=b\n",
    "b=temp\n",
    "print(\"After swapping a={0} and b={1}\".format(a,b))"
   ]
  },
  {
   "cell_type": "code",
   "execution_count": 6,
   "id": "19909616",
   "metadata": {},
   "outputs": [
    {
     "name": "stdout",
     "output_type": "stream",
     "text": [
      "0.09778349315841506\n"
     ]
    }
   ],
   "source": [
    "# 5. Write a Python program to generate a random number?\n",
    "import random\n",
    "a= random.random()\n",
    "print(a)"
   ]
  }
 ],
 "metadata": {
  "kernelspec": {
   "display_name": "Python 3 (ipykernel)",
   "language": "python",
   "name": "python3"
  },
  "language_info": {
   "codemirror_mode": {
    "name": "ipython",
    "version": 3
   },
   "file_extension": ".py",
   "mimetype": "text/x-python",
   "name": "python",
   "nbconvert_exporter": "python",
   "pygments_lexer": "ipython3",
   "version": "3.9.12"
  }
 },
 "nbformat": 4,
 "nbformat_minor": 5
}
