{
 "cells": [
  {
   "cell_type": "code",
   "execution_count": 1,
   "id": "a0533bf5",
   "metadata": {},
   "outputs": [
    {
     "name": "stdout",
     "output_type": "stream",
     "text": [
      "Enter the number of rows3\n",
      "Enter the number of columns3\n",
      "Enter M2[00]: 1\n",
      "Enter M2[01]: 2\n",
      "Enter M2[02]: 3\n",
      "Enter M2[10]: 4\n",
      "Enter M2[11]: 5\n",
      "Enter M2[12]: 6\n",
      "Enter M2[20]: 7\n",
      "Enter M2[21]: 8\n",
      "Enter M2[22]: 9\n",
      "Matrix_1\n",
      "[1, 2, 3]\n",
      "[4, 5, 6]\n",
      "[7, 8, 9]\n",
      "Enter the number of rows3\n",
      "Enter the number of columns3\n",
      "Enter M1[00]: 10\n",
      "Enter M1[01]: 1\n",
      "Enter M1[02]: 12\n",
      "Enter M1[10]: 13\n",
      "Enter M1[11]: 14\n",
      "Enter M1[12]: 15\n",
      "Enter M1[20]: 16\n",
      "Enter M1[21]: 17\n",
      "Enter M1[22]: 1\n",
      "Matrix_2\n",
      "[10, 1, 12]\n",
      "[13, 14, 15]\n",
      "[16, 17, 1]\n",
      "The sumof two matrix is\n",
      "[11, 3, 15]\n",
      "[17, 19, 21]\n",
      "[23, 25, 10]\n"
     ]
    }
   ],
   "source": [
    "# 1. Write a Python Program to Add Two Matrices?\n",
    "a=int(input(\"Enter the number of rows\"))\n",
    "b=int(input(\"Enter the number of columns\"))\n",
    "M1=[]\n",
    "for i in range(a):\n",
    "    t=[]\n",
    "    for j in range(b):\n",
    "        element=int(input(\"Enter M2[{0}{1}]: \".format(i,j)))\n",
    "        t.append(element)\n",
    "    M1.append(t)\n",
    "print(\"Matrix_1\")\n",
    "for i in M1:\n",
    "    print(i)\n",
    "a=int(input(\"Enter the number of rows\"))\n",
    "b=int(input(\"Enter the number of columns\"))\n",
    "M2=[]\n",
    "for i in range(a):\n",
    "    t=[]\n",
    "    for j in range(b):\n",
    "        element=int(input(\"Enter M1[{0}{1}]: \".format(i,j)))\n",
    "        t.append(element)\n",
    "    M2.append(t)\n",
    "print(\"Matrix_2\")\n",
    "for i in M2:\n",
    "    print(i)\n",
    "result=[]\n",
    "for i in range(len(M1)):\n",
    "    t=[]\n",
    "    for j in range(len(M1[0])):\n",
    "        sum=M1[i][j]+ M2[i][j]\n",
    "        t.append(sum)\n",
    "    result.append(t)\n",
    "print(\"The sumof two matrix is\")\n",
    "for i in result:\n",
    "    print(i)"
   ]
  },
  {
   "cell_type": "code",
   "execution_count": 2,
   "id": "c77de911",
   "metadata": {},
   "outputs": [
    {
     "name": "stdout",
     "output_type": "stream",
     "text": [
      "[12, 8, 4]\n",
      "[3, 17, 14]\n",
      "[9, 8, 10]\n",
      "[5, 19, 3]\n",
      "[6, 15, 9]\n",
      "[7, 8, 16]\n",
      "The sumof two matrix is\n",
      "[136, 380, 172]\n",
      "[215, 424, 386]\n",
      "[163, 371, 259]\n"
     ]
    }
   ],
   "source": [
    "# 2. Write a Python Program to Multiply Two Matrices?\n",
    "M1=[[12,8,4],[3,17,14],[9,8,10]]\n",
    "M2=[[5,19,3],[6,15,9],[7,8,16]]\n",
    "for i in M1:\n",
    "    print(i)\n",
    "for i in M2:\n",
    "    print(i)\n",
    "result=[[0,0,0],[0,0,0],[0,0,0]]\n",
    "for i in range(len(M1)):\n",
    "    for j in range(len(M2[0])):\n",
    "        for x in range(len(M2)):\n",
    "            result[i][j]+= M1[i][x]*M2[x][j]\n",
    "print(\"The sumof two matrix is\")\n",
    "for i in result:\n",
    "    print(i)"
   ]
  },
  {
   "cell_type": "code",
   "execution_count": 3,
   "id": "c3cc4062",
   "metadata": {},
   "outputs": [
    {
     "name": "stdout",
     "output_type": "stream",
     "text": [
      "Matrix\n",
      "[1, 2, 6]\n",
      "[5, 0, 4]\n",
      "[9, 8, 3]\n",
      "Matrix Transpose is\n",
      "[1, 5, 9]\n",
      "[2, 0, 8]\n",
      "[6, 4, 3]\n"
     ]
    }
   ],
   "source": [
    "# 3. Write a Python Program to Transpose a Matrix?\n",
    "M1=[[1,2,6],[5,0,4],[9,8,3]]\n",
    "T=[[0,0,0],[0,0,0],[0,0,0]]\n",
    "print(\"Matrix\")\n",
    "for i in M1:\n",
    "    print(i)\n",
    "for i in range(len(M1)):\n",
    "    for j in range(len(M1[0])):\n",
    "        T[j][i]=M1[i][j]\n",
    "print(\"Matrix Transpose is\")\n",
    "for i in T:\n",
    "    print(i)"
   ]
  },
  {
   "cell_type": "code",
   "execution_count": 4,
   "id": "f66c15ff",
   "metadata": {},
   "outputs": [
    {
     "name": "stdout",
     "output_type": "stream",
     "text": [
      "Enter the sentece or stringMy name is Ayush and I am a boy\n",
      "['my', 'name', 'is', 'ayush', 'and', 'i', 'am', 'a', 'boy']\n",
      "a\n",
      "am\n",
      "and\n",
      "ayush\n",
      "boy\n",
      "i\n",
      "is\n",
      "my\n",
      "name\n"
     ]
    }
   ],
   "source": [
    "# 4. Write a Python Program to Sort Words in Alphabetic Order?\n",
    "sentence=input(\"Enter the sentece or string\")\n",
    "str1=sentence.lower()\n",
    "l=str1.split()\n",
    "print(l)\n",
    "l.sort()\n",
    "for i in l:\n",
    "    print(i)"
   ]
  },
  {
   "cell_type": "code",
   "execution_count": 5,
   "id": "3ba5c6c8",
   "metadata": {},
   "outputs": [
    {
     "name": "stdout",
     "output_type": "stream",
     "text": [
      "Enter the sentence: clas#rollnumber%scho*ndhdnm(jbdn@\n",
      "clasrollnumberschondhdnmjbdn\n"
     ]
    }
   ],
   "source": [
    "# 5. Write a Python Program to Remove Punctuation From a String?\n",
    "p='''!()-[]{};:'\"\\,<>./?@#$%^&*_~'''\n",
    "str1=input(\"Enter the sentence: \")\n",
    "char=\"\"\n",
    "for i in str1:\n",
    "    if i not in p:\n",
    "        char=char+i\n",
    "print(char)"
   ]
  },
  {
   "cell_type": "code",
   "execution_count": null,
   "id": "8ddc8186",
   "metadata": {},
   "outputs": [],
   "source": []
  }
 ],
 "metadata": {
  "kernelspec": {
   "display_name": "Python 3 (ipykernel)",
   "language": "python",
   "name": "python3"
  },
  "language_info": {
   "codemirror_mode": {
    "name": "ipython",
    "version": 3
   },
   "file_extension": ".py",
   "mimetype": "text/x-python",
   "name": "python",
   "nbconvert_exporter": "python",
   "pygments_lexer": "ipython3",
   "version": "3.9.12"
  }
 },
 "nbformat": 4,
 "nbformat_minor": 5
}
