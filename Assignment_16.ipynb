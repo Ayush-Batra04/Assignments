{
 "cells": [
  {
   "cell_type": "markdown",
   "id": "033029a7",
   "metadata": {},
   "source": [
    " 1. Write a function that stutters a word as if someone is struggling to read it. The first two letters are repeated twice with an ellipsis ... and space after each, and then the word is pronounced with a question mark ?. Examples stutter('incredible') ➞ 'in... in... incredible?' stutter('enthusiastic') ➞ 'en... en... enthusiastic?' stutter('outstanding') ➞ 'ou... ou... outstanding?'\n",
    "\n",
    " Hint :- Assume all input is in lower case and at least two characters long."
   ]
  },
  {
   "cell_type": "code",
   "execution_count": 1,
   "id": "4fdcf35b",
   "metadata": {},
   "outputs": [
    {
     "name": "stdout",
     "output_type": "stream",
     "text": [
      "Note:The word should be in lowercase and atleast two character long\n",
      "Enter the word:Excited\n",
      "'Ex...Ex...Excited?'\n"
     ]
    }
   ],
   "source": [
    "print(\"Note:The word should be in lowercase and atleast two character long\")\n",
    "n=input(\"Enter the word:\")\n",
    "def func1(n):\n",
    "    return(n[0:2])\n",
    "output1=func1(n)\n",
    "print(\"'\"+output1+\"...\"+output1+\"...\"+n+\"?\"+\"'\")"
   ]
  },
  {
   "cell_type": "markdown",
   "id": "e58339b9",
   "metadata": {},
   "source": [
    "2. Create a function that takes an angle in radians and returns the corresponding angle in degrees rounded to one decimal place."
   ]
  },
  {
   "cell_type": "code",
   "execution_count": 2,
   "id": "69a286b6",
   "metadata": {},
   "outputs": [
    {
     "name": "stdout",
     "output_type": "stream",
     "text": [
      "Ennter the angel in radian: 20\n",
      "The degrees conversion of given angel in radian 20 is: 1145.9\n"
     ]
    }
   ],
   "source": [
    "import math\n",
    "angel=int(input(\"Ennter the angel in radian: \"))\n",
    "def degree(n):\n",
    "    pi=math.pi\n",
    "    degrees=round((n*180/pi),1)\n",
    "    return(degrees)\n",
    "print(\"The degrees conversion of given angel in radian {0} is: {1}\".format(angel,degree(angel)))\n",
    "    "
   ]
  },
  {
   "cell_type": "markdown",
   "id": "369a23ea",
   "metadata": {},
   "source": [
    "3. In this challenge, establish if a given integer num is a Curzon number. If 1 plus 2 elevated to num is exactly divisible by 1 plus 2 multiplied by num, then num is a Curzon number. Given a non-negative integer num, implement a function that returns True if num is a Curzon number, or False otherwise."
   ]
  },
  {
   "cell_type": "code",
   "execution_count": 11,
   "id": "e0362737",
   "metadata": {},
   "outputs": [
    {
     "name": "stdout",
     "output_type": "stream",
     "text": [
      "Enter the number: 14\n"
     ]
    },
    {
     "data": {
      "text/plain": [
       "True"
      ]
     },
     "execution_count": 11,
     "metadata": {},
     "output_type": "execute_result"
    }
   ],
   "source": [
    "def Curzon(number):\n",
    "    sum_1=2**number+1\n",
    "    sum_2=2*number+1\n",
    "    if sum_1%sum_2==0:\n",
    "        return True\n",
    "    else:\n",
    "        return False\n",
    "N=int(input(\"Enter the number: \"))\n",
    "Curzon(N)"
   ]
  },
  {
   "cell_type": "markdown",
   "id": "7c6a8c5c",
   "metadata": {},
   "source": [
    "4. Given the side length x find the area of a hexagon."
   ]
  },
  {
   "cell_type": "code",
   "execution_count": 3,
   "id": "49980af0",
   "metadata": {},
   "outputs": [
    {
     "name": "stdout",
     "output_type": "stream",
     "text": [
      "Enter the side of hexagon: 4\n",
      "The area of hexagon of given side length 4 is: 41.57\n"
     ]
    }
   ],
   "source": [
    "import math\n",
    "x=int(input(\"Enter the side of hexagon: \"))\n",
    "def Area(n):\n",
    "    area=round(((3*math.sqrt(3)/2)*pow(n,2)),2)\n",
    "    return(area)\n",
    "print(\"The area of hexagon of given side length {0} is: {1}\".format(x,Area(x)))"
   ]
  },
  {
   "cell_type": "markdown",
   "id": "06fb20ee",
   "metadata": {},
   "source": [
    "5. Create a function that returns a base-2 (binary) representation of a base-10 (decimal) string number. To convert is simple: ((2) means base-2 and (10) means base-10) 010101001(2) = 1 + 8 + 32 + 128."
   ]
  },
  {
   "cell_type": "code",
   "execution_count": 4,
   "id": "e321bc98",
   "metadata": {},
   "outputs": [
    {
     "name": "stdout",
     "output_type": "stream",
     "text": [
      "Enter the binary number: 010101001\n",
      "The base-2 (binary) representation of a base-10(decimal) 010101001 string number is: 169\n"
     ]
    }
   ],
   "source": [
    "binary=input(\"Enter the binary number: \")\n",
    "def base2(n):\n",
    "    sum=0\n",
    "    for i in range(0,len(n)):\n",
    "        if n[i]==\"1\":\n",
    "            sum=sum+pow(2,len(n)-i-1)\n",
    "    return(sum)\n",
    "output=base2(binary)\n",
    "print(\"The base-2 (binary) representation of a base-10(decimal) {0} string number is: {1}\".format(binary,output))\n",
    "            "
   ]
  }
 ],
 "metadata": {
  "kernelspec": {
   "display_name": "Python 3 (ipykernel)",
   "language": "python",
   "name": "python3"
  },
  "language_info": {
   "codemirror_mode": {
    "name": "ipython",
    "version": 3
   },
   "file_extension": ".py",
   "mimetype": "text/x-python",
   "name": "python",
   "nbconvert_exporter": "python",
   "pygments_lexer": "ipython3",
   "version": "3.9.12"
  }
 },
 "nbformat": 4,
 "nbformat_minor": 5
}
