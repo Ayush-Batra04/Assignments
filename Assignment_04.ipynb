{
 "cells": [
  {
   "cell_type": "code",
   "execution_count": 1,
   "id": "b61b0181",
   "metadata": {},
   "outputs": [
    {
     "name": "stdout",
     "output_type": "stream",
     "text": [
      "Enter the number 10\n",
      "The factorial of the number is 3628800\n"
     ]
    }
   ],
   "source": [
    "# 1. Write a Python Program to Find the Factorial of a Number?\n",
    "n=int(input(\"Enter the number \"))\n",
    "fact=n\n",
    "for x in range(1,n,1):\n",
    "    fact=fact*x\n",
    "print(\"The factorial of the number is {0}\".format(fact))"
   ]
  },
  {
   "cell_type": "code",
   "execution_count": 2,
   "id": "0a9dd138",
   "metadata": {},
   "outputs": [
    {
     "name": "stdout",
     "output_type": "stream",
     "text": [
      "Enter the number for which you want multiplication table20\n",
      "20 * 1 = 20\n",
      "20 * 2 = 40\n",
      "20 * 3 = 60\n",
      "20 * 4 = 80\n",
      "20 * 5 = 100\n",
      "20 * 6 = 120\n",
      "20 * 7 = 140\n",
      "20 * 8 = 160\n",
      "20 * 9 = 180\n",
      "20 * 10 = 200\n"
     ]
    }
   ],
   "source": [
    "# 2. Write a Python Program to Display the multiplication Table?\n",
    "n=int(input(\"Enter the number for which you want multiplication table\"))\n",
    "for x in range(1,11):\n",
    "    mul=n*x\n",
    "    print(n,\"*\",x,\"=\",mul)"
   ]
  },
  {
   "cell_type": "code",
   "execution_count": 3,
   "id": "a792d721",
   "metadata": {},
   "outputs": [
    {
     "name": "stdout",
     "output_type": "stream",
     "text": [
      "Enter the number of terms of fibonacci series10\n",
      "1\n",
      "2\n",
      "3\n",
      "5\n",
      "8\n",
      "13\n",
      "21\n",
      "34\n",
      "55\n",
      "89\n"
     ]
    }
   ],
   "source": [
    "# 3. Write a Python Program to Print the Fibonacci sequence?\n",
    "n=int(input(\"Enter the number of terms of fibonacci series\"))\n",
    "a=0\n",
    "b=1\n",
    "for x in range (n):\n",
    "    sum=a+b\n",
    "    a=b\n",
    "    b=sum\n",
    "    print(sum)"
   ]
  },
  {
   "cell_type": "code",
   "execution_count": 4,
   "id": "c7769b5e",
   "metadata": {},
   "outputs": [
    {
     "name": "stdout",
     "output_type": "stream",
     "text": [
      "Enter the number371\n",
      "The number entered is Armstrong Number\n"
     ]
    }
   ],
   "source": [
    "# 4. Write a Python Program to Check Armstrong Number?\n",
    "n=int(input(\"Enter the number\"))\n",
    "sum=0\n",
    "for x in str(n):\n",
    "    cube=int(x)*int(x)*int(x)\n",
    "    sum=sum+cube\n",
    "if sum==n:\n",
    "    print(\"The number entered is Armstrong Number\")\n",
    "else:\n",
    "    print(\"The number entered is not an Armstrong number\")"
   ]
  },
  {
   "cell_type": "code",
   "execution_count": 5,
   "id": "014bd43d",
   "metadata": {},
   "outputs": [
    {
     "name": "stdout",
     "output_type": "stream",
     "text": [
      "Enter the first number of range 1\n",
      "Enter the second number of range500\n",
      "1\n",
      "153\n",
      "370\n",
      "371\n",
      "407\n",
      "There are total 5 Armstrong number between 1 and 500\n"
     ]
    }
   ],
   "source": [
    "#5. Write a Python Program to Find Armstrong Number in an Interval?\n",
    "a=int(input(\"Enter the first number of range \"))\n",
    "b=int(input(\"Enter the second number of range\"))\n",
    "count=0\n",
    "for n in range(a,b,1):\n",
    "    sum=0\n",
    "    for x in str(n):\n",
    "        cube=int(x)*int(x)*int(x)\n",
    "        sum=sum+cube\n",
    "    if sum==n:\n",
    "        print(n)\n",
    "        count=count+1\n",
    "print(\"There are total {0} Armstrong number between {1} and {2}\".format(count,a,b))"
   ]
  },
  {
   "cell_type": "code",
   "execution_count": 6,
   "id": "a4c38f65",
   "metadata": {},
   "outputs": [
    {
     "name": "stdout",
     "output_type": "stream",
     "text": [
      "Enter the number12\n",
      "The sum of 12 natural number is 78.0\n"
     ]
    }
   ],
   "source": [
    "# 6. Write a Python Program to Find the Sum of Natural Numbers?\n",
    "N=int(input(\"Enter the number\"))\n",
    "SUM=(N*(N+1))/2\n",
    "print(\"The sum of {0} natural number is {1}\".format(N,SUM))"
   ]
  },
  {
   "cell_type": "code",
   "execution_count": 7,
   "id": "59178bf5",
   "metadata": {},
   "outputs": [
    {
     "name": "stdout",
     "output_type": "stream",
     "text": [
      "Enter the number12\n",
      "The sum of 12 natural number is 78\n"
     ]
    }
   ],
   "source": [
    "# 6. Write a Python Program to Find the Sum of Natural Numbers?\n",
    "N=int(input(\"Enter the number\"))\n",
    "sum=N\n",
    "for i in range (1,N,1):\n",
    "    sum=sum+i\n",
    "print(\"The sum of {0} natural number is {1}\".format(N,sum))"
   ]
  },
  {
   "cell_type": "code",
   "execution_count": null,
   "id": "d1e000d4",
   "metadata": {},
   "outputs": [],
   "source": []
  }
 ],
 "metadata": {
  "kernelspec": {
   "display_name": "Python 3 (ipykernel)",
   "language": "python",
   "name": "python3"
  },
  "language_info": {
   "codemirror_mode": {
    "name": "ipython",
    "version": 3
   },
   "file_extension": ".py",
   "mimetype": "text/x-python",
   "name": "python",
   "nbconvert_exporter": "python",
   "pygments_lexer": "ipython3",
   "version": "3.9.12"
  }
 },
 "nbformat": 4,
 "nbformat_minor": 5
}
