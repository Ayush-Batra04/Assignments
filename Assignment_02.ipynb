{
 "cells": [
  {
   "cell_type": "code",
   "execution_count": 1,
   "id": "841cb967",
   "metadata": {},
   "outputs": [
    {
     "name": "stdout",
     "output_type": "stream",
     "text": [
      "Enter the distance is kilometers 12\n",
      "The distance in miles is 7.4565\n"
     ]
    }
   ],
   "source": [
    "# 1. Write a Python program to convert kilometers to miles?\n",
    "a=float(input(\"Enter the distance is kilometers \"))\n",
    "miles= a*0.62137119\n",
    "print(\"The distance in miles is {0}\".format(round(miles,4)))"
   ]
  },
  {
   "cell_type": "code",
   "execution_count": 2,
   "id": "0e020b56",
   "metadata": {},
   "outputs": [
    {
     "name": "stdout",
     "output_type": "stream",
     "text": [
      "Enter the temperature in Celsius 50\n",
      "The given temperature in Fahrenheit is 122.0\n"
     ]
    }
   ],
   "source": [
    "# 2.Write a Python program to convert Celsius to Fahrenheit?\n",
    "a=float(input(\"Enter the temperature in Celsius \"))\n",
    "Fah= (a*1.8)+32\n",
    "print(\"The given temperature in Fahrenheit is {0}\".format(Fah))"
   ]
  },
  {
   "cell_type": "code",
   "execution_count": 3,
   "id": "62274c62",
   "metadata": {},
   "outputs": [
    {
     "name": "stdout",
     "output_type": "stream",
     "text": [
      "     August 22\n",
      "Mo Tu We Th Fr Sa Su\n",
      " 1  2  3  4  5  6  7\n",
      " 8  9 10 11 12 13 14\n",
      "15 16 17 18 19 20 21\n",
      "22 23 24 25 26 27 28\n",
      "29 30 31\n",
      "\n"
     ]
    }
   ],
   "source": [
    "#3. Write a Python program to display calendar?\n",
    "import calendar\n",
    "print(calendar.month(22,8))"
   ]
  },
  {
   "cell_type": "code",
   "execution_count": 5,
   "id": "dc700cae",
   "metadata": {},
   "outputs": [
    {
     "name": "stdout",
     "output_type": "stream",
     "text": [
      "Enter coefficient of a :8\n",
      "Enter coefficient of b :1\n",
      "Enter coefficient of c :9\n",
      "The Solution of Quadratic Equation are (-0.0625-1.0588171466310885j) (-0.0625+1.0588171466310885j)\n"
     ]
    }
   ],
   "source": [
    "# 4. Write a Python program to solve quadratic equationfrom math\n",
    "import cmath\n",
    "a=int(input(\"Enter coefficient of a :\"))\n",
    "b=int(input(\"Enter coefficient of b :\"))\n",
    "c=int(input(\"Enter coefficient of c :\"))\n",
    "D=(b**2)-(4*a*c)\n",
    "s1 = (-b-cmath.sqrt(D))/(2*a)\n",
    "s2 = (-b+cmath.sqrt(D))/(2*a)\n",
    "print(\"The Solution of Quadratic Equation are\",s1,s2)"
   ]
  },
  {
   "cell_type": "code",
   "execution_count": 7,
   "id": "24b60299",
   "metadata": {},
   "outputs": [
    {
     "name": "stdout",
     "output_type": "stream",
     "text": [
      "Enter the first number: 20\n",
      "Enter the second number: 51\n",
      "Before swapping a=20 and b=51\n",
      "After swapping a=51 and b=20\n"
     ]
    }
   ],
   "source": [
    "#5. Write a Python program to swap two variables without temp variable?\n",
    "a=int(input(\"Enter the first number: \"))\n",
    "b=int(input(\"Enter the second number: \"))\n",
    "print(\"Before swapping a={0} and b={1}\".format(a,b))\n",
    "a=a+b\n",
    "b=a-b\n",
    "a=a-b\n",
    "print(\"After swapping a={0} and b={1}\".format(a,b))"
   ]
  }
 ],
 "metadata": {
  "kernelspec": {
   "display_name": "Python 3 (ipykernel)",
   "language": "python",
   "name": "python3"
  },
  "language_info": {
   "codemirror_mode": {
    "name": "ipython",
    "version": 3
   },
   "file_extension": ".py",
   "mimetype": "text/x-python",
   "name": "python",
   "nbconvert_exporter": "python",
   "pygments_lexer": "ipython3",
   "version": "3.9.12"
  }
 },
 "nbformat": 4,
 "nbformat_minor": 5
}
