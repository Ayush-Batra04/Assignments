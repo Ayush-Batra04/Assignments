{
 "cells": [
  {
   "cell_type": "markdown",
   "id": "516cdf6c",
   "metadata": {},
   "source": [
    "1. Write a Python program to check if the given number is a Disarium Number?"
   ]
  },
  {
   "cell_type": "code",
   "execution_count": 12,
   "id": "75f2ed56",
   "metadata": {},
   "outputs": [
    {
     "name": "stdout",
     "output_type": "stream",
     "text": [
      "Enter the number: 175\n",
      "The Entered number is disarium number: \n"
     ]
    }
   ],
   "source": [
    "number=input(\"Enter the number: \")\n",
    "sum=0\n",
    "for i in range(0,len(number)):\n",
    "    cube=0\n",
    "    cube=int(number[i])**(i+1)\n",
    "    sum+=cube\n",
    "if number==str(sum):\n",
    "    print('The Entered number is disarium number: ')\n",
    "else:\n",
    "    print('The Entered number is not a disarium number: ')"
   ]
  },
  {
   "cell_type": "markdown",
   "id": "19d31307",
   "metadata": {},
   "source": [
    " 2. Write a Python program to print all disarium numbers between 1 to 100?"
   ]
  },
  {
   "cell_type": "code",
   "execution_count": 9,
   "id": "3a360cf7",
   "metadata": {},
   "outputs": [
    {
     "name": "stdout",
     "output_type": "stream",
     "text": [
      "1\n",
      "2\n",
      "3\n",
      "4\n",
      "5\n",
      "6\n",
      "7\n",
      "8\n",
      "9\n",
      "89\n"
     ]
    }
   ],
   "source": [
    "for i in range (1,101):\n",
    "    sum=0\n",
    "    N=str(i)\n",
    "    for j in range(0,len(N)):\n",
    "        cube=0\n",
    "        cube=int(N[j])**(j+1)\n",
    "        sum+=cube\n",
    "    if N==str(sum):\n",
    "        print(N)"
   ]
  },
  {
   "cell_type": "markdown",
   "id": "d75d28b0",
   "metadata": {},
   "source": [
    " 3. Write a Python program to check if the given number is Happy Number?"
   ]
  },
  {
   "cell_type": "code",
   "execution_count": 16,
   "id": "18224c8d",
   "metadata": {},
   "outputs": [
    {
     "name": "stdout",
     "output_type": "stream",
     "text": [
      "Enter the number: 17\n",
      "17 is not a Happy number\n"
     ]
    }
   ],
   "source": [
    "number=int(input(\"Enter the number: \"))\n",
    "def numSquareSum(n):\n",
    "    squareSum = 0;\n",
    "    while(n):\n",
    "        squareSum += (n % 10) * (n % 10);\n",
    "        n = int(n / 10);\n",
    "    return squareSum;\n",
    "def Happynumber(n):\n",
    "    slow = n;\n",
    "    fast = n;\n",
    "    while(True):\n",
    "        slow = numSquareSum(slow);\n",
    "        fast = numSquareSum(numSquareSum(fast));\n",
    "        if(slow != fast):\n",
    "            continue;\n",
    "        else:\n",
    "            break;\n",
    "    return (slow == 1);\n",
    "if (Happynumber(number)):\n",
    "    print(number , \"is a Happy number\");\n",
    "else:\n",
    "    print(number , \"is not a Happy number\");"
   ]
  },
  {
   "cell_type": "markdown",
   "id": "3af17076",
   "metadata": {},
   "source": [
    " 4. Write a Python program to print all happy numbers between 1 and 100?"
   ]
  },
  {
   "cell_type": "code",
   "execution_count": 18,
   "id": "6d6764f9",
   "metadata": {},
   "outputs": [
    {
     "name": "stdout",
     "output_type": "stream",
     "text": [
      "1\n",
      "7\n",
      "10\n",
      "13\n",
      "19\n",
      "23\n",
      "28\n",
      "31\n",
      "32\n",
      "44\n",
      "49\n",
      "68\n",
      "70\n",
      "79\n",
      "82\n",
      "86\n",
      "91\n",
      "94\n",
      "97\n",
      "100\n"
     ]
    }
   ],
   "source": [
    "def numSquareSum(n):\n",
    "    squareSum = 0;\n",
    "    while(n):\n",
    "        squareSum += (n % 10) * (n % 10);\n",
    "        n = int(n / 10);\n",
    "    return squareSum;\n",
    "def Happynumber(n):\n",
    "    slow = n;\n",
    "    fast = n;\n",
    "    while(True):\n",
    "        slow = numSquareSum(slow);\n",
    "        fast = numSquareSum(numSquareSum(fast));\n",
    "        if(slow != fast):\n",
    "            continue;\n",
    "        else:\n",
    "            break;\n",
    "    return (slow == 1);\n",
    "for number in range (0,101):\n",
    "    if (Happynumber(number)):\n",
    "        print(number);"
   ]
  },
  {
   "cell_type": "markdown",
   "id": "0d863d86",
   "metadata": {},
   "source": [
    " 5. Write a Python program to determine whether the given number is a Harshad Number?"
   ]
  },
  {
   "cell_type": "code",
   "execution_count": 25,
   "id": "478ead46",
   "metadata": {},
   "outputs": [
    {
     "name": "stdout",
     "output_type": "stream",
     "text": [
      "Enter the number: 18\n",
      "Entered number is Harshad Number\n"
     ]
    }
   ],
   "source": [
    "number=int(input(\"Enter the number: \"))\n",
    "sum=0\n",
    "for i in str(number):\n",
    "    sum+=int(i)\n",
    "if number%sum==0:\n",
    "    print(\"Entered number is Harshad Number\")\n",
    "else:\n",
    "    print(\"Entered numberr is not a Harshad Number\")"
   ]
  },
  {
   "cell_type": "markdown",
   "id": "51d9ba2c",
   "metadata": {},
   "source": [
    "6. Write a Python program to print all pronic numbers between 1 and 100?"
   ]
  },
  {
   "cell_type": "code",
   "execution_count": 32,
   "id": "6dc9a07c",
   "metadata": {},
   "outputs": [
    {
     "name": "stdout",
     "output_type": "stream",
     "text": [
      "2\n",
      "6\n",
      "12\n",
      "20\n",
      "30\n",
      "42\n",
      "56\n",
      "72\n",
      "90\n"
     ]
    }
   ],
   "source": [
    "for number in range (0,101):\n",
    "    count=0\n",
    "    for i in range (0,number):\n",
    "        sum=i*(i+1)\n",
    "        if sum==number:\n",
    "            count+=1\n",
    "            break\n",
    "    if count==1:\n",
    "        print(number)"
   ]
  }
 ],
 "metadata": {
  "kernelspec": {
   "display_name": "Python 3 (ipykernel)",
   "language": "python",
   "name": "python3"
  },
  "language_info": {
   "codemirror_mode": {
    "name": "ipython",
    "version": 3
   },
   "file_extension": ".py",
   "mimetype": "text/x-python",
   "name": "python",
   "nbconvert_exporter": "python",
   "pygments_lexer": "ipython3",
   "version": "3.9.12"
  }
 },
 "nbformat": 4,
 "nbformat_minor": 5
}
